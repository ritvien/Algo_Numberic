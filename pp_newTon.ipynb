{
 "cells": [
  {
   "cell_type": "code",
   "execution_count": 2,
   "id": "a4a3c593-f952-4abc-b2cb-1e9b48fc1190",
   "metadata": {},
   "outputs": [],
   "source": [
    "import numpy as np\n",
    "import matplotlib.pyplot as plt\n",
    "import sympy as sp\n"
   ]
  },
  {
   "cell_type": "code",
   "execution_count": null,
   "id": "f75f275d-8f42-4008-a781-8fe8f4baffa3",
   "metadata": {},
   "outputs": [],
   "source": [
    "# điều kiện áp dụng:\n",
    "# f' và f\" giữ nguyên dấu trên [a,b]\n",
    "# chọn xấp xỉ đầu x0 thuộc [a,b] sao cho f(x0)*f\"(x0) >0"
   ]
  },
  {
   "cell_type": "code",
   "execution_count": 4,
   "id": "724f421b-323e-453f-8987-166addeab6f7",
   "metadata": {},
   "outputs": [
    {
     "name": "stdin",
     "output_type": "stream",
     "text": [
      "khoang phan li a:  1\n",
      "khoang phan li b:  1.4\n",
      "sai so epsilon :  0.00001\n"
     ]
    }
   ],
   "source": [
    "a = float(input('khoang phan li a: '))\n",
    "b = float(input('khoang phan li b: '))\n",
    "ep = float(input('sai so epsilon : '))\n",
    "\n"
   ]
  },
  {
   "cell_type": "code",
   "execution_count": 5,
   "id": "8fbc2460-5631-443b-bcfe-2e99ad20b44b",
   "metadata": {},
   "outputs": [
    {
     "data": {
      "text/plain": [
       "<function matplotlib.pyplot.show(close=None, block=None)>"
      ]
     },
     "execution_count": 5,
     "metadata": {},
     "output_type": "execute_result"
    },
    {
     "data": {
      "image/png": "[encoded data removed]",
      "text/plain": [
       "<Figure size 640x480 with 1 Axes>"
      ]
     },
     "metadata": {},
     "output_type": "display_data"
    }
   ],
   "source": [
    "x = np.linspace(a,b,100)\n",
    "y = x**3 - 0.2*x**2-0.2*x-1.2\n",
    "plt.grid()\n",
    "plt.plot(x,y)\n",
    "plt.show"
   ]
  },
  {
   "cell_type": "code",
   "execution_count": 25,
   "id": "ebe99977-25b8-4f19-acf3-a85ec25b790e",
   "metadata": {},
   "outputs": [],
   "source": [
    "z = sp.symbols('x')\n",
    "fz = z**3 - 0.2*z**2-0.2*z-1.2    \n",
    "\n",
    "df = sp.diff(fz,z)\n",
    "m = abs(df.evalf(subs = {z:a})) \n",
    "n = abs(df.evalf(subs = {z:b})) \n",
    "\n",
    "def dh(t):\n",
    "    df = sp.diff(fz,z)\n",
    "    dh = df.evalf(subs = {z:t})\n",
    "    return dh\n",
    "\n",
    "m2 = max(m,n) # M1 là max|f\" | trên đoạn [a,b]\n",
    "m1 = min(m,n) # m1 là mim|f' | trên đoạn [a,b]\n",
    "float(m1)\n",
    "float(m1)\n",
    "u = m2/(2*m1)\n",
    "\n"
   ]
  },
  {
   "cell_type": "markdown",
   "id": "307952e8-c068-465a-965b-0fb584bc419f",
   "metadata": {},
   "source": [
    "# làm ở đây"
   ]
  },
  {
   "cell_type": "code",
   "execution_count": 2,
   "id": "fa72f475-54d9-4884-85b3-15a73afe45ae",
   "metadata": {},
   "outputs": [
    {
     "name": "stdin",
     "output_type": "stream",
     "text": [
      "khoang phan li a:  1.5\n",
      "khoang phan li b:  1.6\n",
      "sai so epsilon :  0.00000000001\n"
     ]
    },
    {
     "name": "stdout",
     "output_type": "stream",
     "text": [
      "k         Xk                f(Xk)             Xk-X(k-1)         sai_so            \n",
      "0         1.6000000         2.7772160         \n",
      "1         1.552481745         0.000998654         -0.003375595        0.000024585         \n",
      "2         1.552463290         0.000000030         -0.000018456        0.000000001         \n"
     ]
    },
    {
     "ename": "TypeError",
     "evalue": "unsupported format string passed to Zero.__format__",
     "output_type": "error",
     "traceback": [
      "\u001b[1;31m---------------------------------------------------------------------------\u001b[0m",
      "\u001b[1;31mTypeError\u001b[0m                                 Traceback (most recent call last)",
      "Cell \u001b[1;32mIn[2], line 54\u001b[0m\n\u001b[0;32m     52\u001b[0m tmp \u001b[38;5;241m=\u001b[39m x\n\u001b[0;32m     53\u001b[0m x \u001b[38;5;241m=\u001b[39m x \u001b[38;5;241m-\u001b[39m f(x)\u001b[38;5;241m/\u001b[39mdh(x)\n\u001b[1;32m---> 54\u001b[0m \u001b[38;5;28mprint\u001b[39m(\u001b[38;5;124m'\u001b[39m\u001b[38;5;132;01m{:<10d}\u001b[39;00m\u001b[38;5;132;01m{:<20.9f}\u001b[39;00m\u001b[38;5;132;01m{:<20.9f}\u001b[39;00m\u001b[38;5;132;01m{:<20.9f}\u001b[39;00m\u001b[38;5;132;01m{:<20.9f}\u001b[39;00m\u001b[38;5;124m'\u001b[39m\u001b[38;5;241m.\u001b[39mformat(k, x, f(x),x \u001b[38;5;241m-\u001b[39m tmp , u\u001b[38;5;241m*\u001b[39m((x\u001b[38;5;241m-\u001b[39mtmp)\u001b[38;5;241m*\u001b[39m\u001b[38;5;241m*\u001b[39m\u001b[38;5;241m2\u001b[39m) ))\n\u001b[0;32m     55\u001b[0m k \u001b[38;5;241m+\u001b[39m\u001b[38;5;241m=\u001b[39m \u001b[38;5;241m1\u001b[39m\n",
      "File \u001b[1;32m~\\anaconda\\Lib\\site-packages\\sympy\\core\\expr.py:394\u001b[0m, in \u001b[0;36mExpr.__format__\u001b[1;34m(self, format_spec)\u001b[0m\n\u001b[0;32m    392\u001b[0m         \u001b[38;5;28;01mif\u001b[39;00m rounded\u001b[38;5;241m.\u001b[39mis_Float:\n\u001b[0;32m    393\u001b[0m             \u001b[38;5;28;01mreturn\u001b[39;00m \u001b[38;5;28mformat\u001b[39m(rounded, format_spec)\n\u001b[1;32m--> 394\u001b[0m \u001b[38;5;28;01mreturn\u001b[39;00m \u001b[38;5;28msuper\u001b[39m()\u001b[38;5;241m.\u001b[39m\u001b[38;5;21m__format__\u001b[39m(format_spec)\n",
      "\u001b[1;31mTypeError\u001b[0m: unsupported format string passed to Zero.__format__"
     ]
    }
   ],
   "source": [
    "import numpy as np\n",
    "import matplotlib.pyplot as plt\n",
    "import sympy as sp\n",
    "import math\n",
    "\n",
    "a = float(input('khoang phan li a: '))\n",
    "b = float(input('khoang phan li b: '))\n",
    "ep = float(input('sai so epsilon : '))\n",
    "\n",
    "z = sp.symbols('z')\n",
    "\n",
    "'''hàm đây'''\n",
    "fz = z**6-14\n",
    "\n",
    "df = sp.diff(fz,z)\n",
    "m = abs(df.evalf(subs = {z:a})) \n",
    "n = abs(df.evalf(subs = {z:b})) \n",
    "\n",
    "ddf = sp.diff(df,z)\n",
    "p = abs(ddf.evalf(subs = {z:a})) \n",
    "q = abs(ddf.evalf(subs = {z:b})) \n",
    "m2 = max(p,q) # m2 là max|f\" | trên đoạn [a,b]\n",
    "\n",
    "m1 = min(m,n) # m1 là mim|f' | trên đoạn [a,b]\n",
    "float(m2)\n",
    "float(m1)\n",
    "u = m2/(2*m1)\n",
    "\n",
    "def dh(t):\n",
    "    df = sp.diff(fz,z)\n",
    "    dh = df.evalf(subs = {z:t})\n",
    "    return dh\n",
    "\n",
    "'''hàm đây :'''\n",
    "def f(x):\n",
    "    return x**6-14\n",
    "    \n",
    "# chọn X0 theo điều kiện \n",
    "if dh(a)*f(a) >0 :\n",
    "    x = a\n",
    "else: \n",
    "    x = b\n",
    "\n",
    "print('{:<10s}{:<18s}{:<18s}{:<18s}{:<18s}'.format('k', 'Xk', 'f(Xk)', 'Xk-X(k-1)', 'sai_so'))\n",
    "k = 0\n",
    "print('{:<10d}{:<18.7f}{:<18.7f}'.format(k, x, f(x) ))\n",
    "tmp = x\n",
    "x = x - f(x)/dh(x)\n",
    "k += 1\n",
    "\n",
    "while u*((x-tmp)**2) > ep:\n",
    "    tmp = x\n",
    "    x = x - f(x)/dh(x)\n",
    "    print('{:<10d}{:<20.9f}{:<20.9f}{:<20.9f}{:<20.9f}'.format(k, x, f(x),x - tmp , u*((x-tmp)**2) ))\n",
    "    k += 1    \n"
   ]
  }
 ],
 "metadata": {
  "kernelspec": {
   "display_name": "Python 3 (ipykernel)",
   "language": "python",
   "name": "python3"
  },
  "language_info": {
   "codemirror_mode": {
    "name": "ipython",
    "version": 3
   },
   "file_extension": ".py",
   "mimetype": "text/x-python",
   "name": "python",
   "nbconvert_exporter": "python",
   "pygments_lexer": "ipython3",
   "version": "3.11.7"
  }
 },
 "nbformat": 4,
 "nbformat_minor": 5
}
