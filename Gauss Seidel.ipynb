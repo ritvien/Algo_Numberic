{
 "cells": [
  {
   "cell_type": "code",
   "execution_count": 1,
   "id": "d6ff082f",
   "metadata": {
    "ExecuteTime": {
     "end_time": "2024-06-14T07:48:46.821878Z",
     "start_time": "2024-06-14T07:48:46.805877Z"
    }
   },
   "outputs": [],
   "source": [
    "import numpy as np"
   ]
  },
  {
   "cell_type": "code",
   "execution_count": 1,
   "id": "425600c7",
   "metadata": {
    "ExecuteTime": {
     "end_time": "2024-06-14T14:33:29.552954Z",
     "start_time": "2024-06-14T14:33:29.538358Z"
    }
   },
   "outputs": [],
   "source": [
    "def Seidel(B1,B2,d,epxilon):\n",
    "    '''\n",
    "    Ax=d\n",
    "    => x = Bx + d\n",
    "    '''\n",
    "    n = np.shape(B1)[0]\n",
    "    x = np.zeros((n,1))\n",
    "    \n",
    "    #_____Condition_________#\n",
    "    if (np.linalg.norm(B1+B2,ord=np.inf)) >=1:\n",
    "        print('Not conv')\n",
    "#         return\n",
    "    \n",
    "    #______count lambda_____#\n",
    "    sum_B1 = np.sum(np.abs(B1),axis=1)\n",
    "    sum_B2 = np.sum(np.abs(B2),axis=1)\n",
    "    all_lambda = sum_B2/(1-sum_B1)\n",
    "    lambda_ = np.max(all_lambda)\n",
    "    print(lambda_)\n",
    "    \n",
    "    #_______Print_________#\n",
    "    print('_________________________________________________________________________________________')\n",
    "    print('||Lần lặp\\t||\\t\\t\\t x \\t\\t\\t|| Sai số ∥x(k+1) - x(k)∥∞ ')\n",
    "    \n",
    "    #________Loop_________#\n",
    "    count = 1\n",
    "    while True:\n",
    "        print(count,end='\\t\\t| ')\n",
    "        x_old = x.copy()\n",
    "        for i in range(n):\n",
    "            x[i] = B1[i]@x + B2[i]@x_old + d[i]\n",
    "        for number in x.T[0]:\n",
    "            print(f'{number:.5f}', end=', ')                      # Lấy 5 chữ số sau dấu phẩy\n",
    "            \n",
    "        error = np.abs(np.linalg.norm(x-x_old,ord=np.inf)*lambda_/(1-lambda_))\n",
    "        print(f'\\t\\t\\t| {error}')\n",
    "        if error < epxilon:\n",
    "            break\n",
    "        count+=1"
   ]
  },
  {
   "cell_type": "code",
   "execution_count": 235,
   "id": "0a9b75be",
   "metadata": {
    "ExecuteTime": {
     "end_time": "2024-06-14T09:57:55.877385Z",
     "start_time": "2024-06-14T09:57:55.861385Z"
    }
   },
   "outputs": [],
   "source": [
    "B1 = np.array([[0,0,0],[-0.1,0,0],[-0.1,-0.1,0]])\n",
    "B2 = np.array([[0,-0.1,-0.1],[0,0,-0.1],[0,0,0]])"
   ]
  },
  {
   "cell_type": "code",
   "execution_count": 236,
   "id": "cb579b2a",
   "metadata": {
    "ExecuteTime": {
     "end_time": "2024-06-14T09:57:56.309048Z",
     "start_time": "2024-06-14T09:57:56.300034Z"
    }
   },
   "outputs": [],
   "source": [
    "d = np.array([[1.2],\n",
    "              [1.2],\n",
    "              [1.2]])"
   ]
  },
  {
   "cell_type": "code",
   "execution_count": 237,
   "id": "c6470512",
   "metadata": {
    "ExecuteTime": {
     "end_time": "2024-06-14T09:57:56.691291Z",
     "start_time": "2024-06-14T09:57:56.683289Z"
    }
   },
   "outputs": [
    {
     "name": "stdout",
     "output_type": "stream",
     "text": [
      "0.2\n",
      "_________________________________________________________________________________________\n",
      "||Lần lặp\t||\t\t\t x \t\t\t|| Sai số ∥x(k+1) - x(k)∥∞ \n",
      "1\t\t| 1.20000, 1.08000, 0.97200, \t\t\t| 0.3\n",
      "2\t\t| 0.99480, 1.00332, 1.00019, \t\t\t| 0.05130000000000001\n",
      "3\t\t| 0.99965, 1.00002, 1.00003, \t\t\t| 0.0012122999999999995\n",
      "4\t\t| 1.00000, 1.00000, 1.00000, \t\t\t| 8.645670000001493e-05\n",
      "5\t\t| 1.00000, 1.00000, 1.00000, \t\t\t| 1.2949443000120908e-06\n",
      "6\t\t| 1.00000, 1.00000, 1.00000, \t\t\t| 4.890331534168624e-08\n",
      "7\t\t| 1.00000, 1.00000, 1.00000, \t\t\t| 2.713140434540406e-09\n",
      "8\t\t| 1.00000, 1.00000, 1.00000, \t\t\t| 2.9777735832681174e-11\n"
     ]
    }
   ],
   "source": [
    "Seidel(B1,B2,d,5e-10)"
   ]
  },
  {
   "cell_type": "code",
   "execution_count": null,
   "id": "cd6676f6",
   "metadata": {},
   "outputs": [],
   "source": []
  }
 ],
 "metadata": {
  "kernelspec": {
   "display_name": "Python 3 (ipykernel)",
   "language": "python",
   "name": "python3"
  },
  "language_info": {
   "codemirror_mode": {
    "name": "ipython",
    "version": 3
   },
   "file_extension": ".py",
   "mimetype": "text/x-python",
   "name": "python",
   "nbconvert_exporter": "python",
   "pygments_lexer": "ipython3",
   "version": "3.9.13"
  },
  "toc": {
   "base_numbering": 1,
   "nav_menu": {},
   "number_sections": true,
   "sideBar": true,
   "skip_h1_title": false,
   "title_cell": "Table of Contents",
   "title_sidebar": "Contents",
   "toc_cell": false,
   "toc_position": {},
   "toc_section_display": true,
   "toc_window_display": false
  },
  "varInspector": {
   "cols": {
    "lenName": 16,
    "lenType": 16,
    "lenVar": 40
   },
   "kernels_config": {
    "python": {
     "delete_cmd_postfix": "",
     "delete_cmd_prefix": "del ",
     "library": "var_list.py",
     "varRefreshCmd": "print(var_dic_list())"
    },
    "r": {
     "delete_cmd_postfix": ") ",
     "delete_cmd_prefix": "rm(",
     "library": "var_list.r",
     "varRefreshCmd": "cat(var_dic_list()) "
    }
   },
   "types_to_exclude": [
    "module",
    "function",
    "builtin_function_or_method",
    "instance",
    "_Feature"
   ],
   "window_display": false
  }
 },
 "nbformat": 4,
 "nbformat_minor": 5
}
