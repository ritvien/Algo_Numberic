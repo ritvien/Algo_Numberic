{
 "cells": [
  {
   "cell_type": "code",
   "execution_count": 2,
   "id": "f46f09e7",
   "metadata": {
    "ExecuteTime": {
     "end_time": "2024-06-24T04:29:26.120773Z",
     "start_time": "2024-06-24T04:29:26.102560Z"
    }
   },
   "outputs": [],
   "source": [
    "import numpy as np\n",
    "from scipy.linalg import null_space\n",
    "from numpy import linalg as LA\n",
    "from scipy.linalg import svd\n",
    "import math as mt\n"
   ]
  },
  {
   "cell_type": "code",
   "execution_count": 5,
   "id": "8032c00d",
   "metadata": {
    "ExecuteTime": {
     "end_time": "2024-06-24T04:29:49.457788Z",
     "start_time": "2024-06-24T04:29:49.417626Z"
    }
   },
   "outputs": [],
   "source": [
    "def SVD(A):\n",
    "# gán ma trân sigma bằng ma trận 0 cở m.n\n",
    "    sigma = np.zeros((m,n))\n",
    "    v = np.eye(n)\n",
    "#    r = rank ma trận -1\n",
    "    r= np.linalg.matrix_rank(A) -1\n",
    "# nếu A ko full rank thì sẽ tìm ker(A) và ker(A.T)    \n",
    "    if r != n-1:\n",
    "        ns = null_space(A)\n",
    "        ns =ns.T\n",
    "        nd = null_space(A.T)\n",
    "        nd = nd.T\n",
    "# m >=n ta tính U trước V sau        \n",
    "    if m>=n:   \n",
    "        # ta tìm trị riêng w của A.AT và tìm vecto riêng tương ứng là u\n",
    "        w,u = LA.eig(A@A.T)\n",
    "        # sắp xếp trị riêng và vetor riêng\n",
    "        for i in range(n-1):\n",
    "            for j in range(i+1, n):\n",
    "                if(w[j-1] < w[j]):\n",
    "                    w[j], w[j-1] = w[j-1], w[j]\n",
    "                    u[:,[j-1,j]] = u[:,[j,j-1]]\n",
    "        U = u.T\n",
    "    # ta tìm r vector riêng đầu tiên ứng với U\n",
    "        V= np.zeros((r+1,n))\n",
    "        for i in range(r+1):\n",
    "            V[i,:n]=(U[i,:m]@A)/(np.sqrt(w[i]))\n",
    "        np.fill_diagonal(sigma, np.sqrt(w))\n",
    "    #sau đó tìm  n - r vector còn lại\n",
    "        if r != n-1:\n",
    "            V = np.concatenate((V,ns), axis =0)\n",
    "\n",
    "# m <n ta tính V trước U sau tương tự\n",
    "    else:\n",
    "        w,v = LA.eig(A.T@A)\n",
    "        for i in range(n-1):\n",
    "            for j in range(i+1, m):\n",
    "                if(w[j-1] < w[j]):\n",
    "                    w[j], w[j-1] = w[j-1], w[j]\n",
    "                    v[:,[j-1,j]] = v[:,[j,j-1]]\n",
    "    #    V =v\n",
    "        U = np.zeros((r+1,m))\n",
    "        for i in range(r+1):\n",
    "            U[i,:m]=(v.T[i,:n]@A.T)/(np.sqrt(w[i]))\n",
    "        np.fill_diagonal(sigma, np.sqrt(w))\n",
    "\n",
    "        if r != n-1:\n",
    "            U = np.concatenate((U,nd), axis = 0)\n",
    "\n",
    "        V = v.T\n",
    "\n",
    "    return U.T, sigma, V"
   ]
  },
  {
   "cell_type": "code",
   "execution_count": null,
   "id": "c44740ae",
   "metadata": {},
   "outputs": [],
   "source": []
  },
  {
   "cell_type": "code",
   "execution_count": 6,
   "id": "eee8baa0",
   "metadata": {
    "ExecuteTime": {
     "end_time": "2024-06-24T04:30:01.352674Z",
     "start_time": "2024-06-24T04:30:01.328297Z"
    }
   },
   "outputs": [
    {
     "ename": "NameError",
     "evalue": "name 'A' is not defined",
     "output_type": "error",
     "traceback": [
      "\u001b[1;31m---------------------------------------------------------------------------\u001b[0m",
      "\u001b[1;31mNameError\u001b[0m                                 Traceback (most recent call last)",
      "\u001b[1;32m~\\AppData\\Local\\Temp\\ipykernel_20628\\1481166288.py\u001b[0m in \u001b[0;36m<module>\u001b[1;34m\u001b[0m\n\u001b[1;32m----> 1\u001b[1;33m \u001b[0mm\u001b[0m\u001b[1;33m=\u001b[0m\u001b[0mlen\u001b[0m\u001b[1;33m(\u001b[0m\u001b[0mA\u001b[0m\u001b[1;33m)\u001b[0m\u001b[1;33m\u001b[0m\u001b[1;33m\u001b[0m\u001b[0m\n\u001b[0m\u001b[0;32m      2\u001b[0m \u001b[0mn\u001b[0m\u001b[1;33m=\u001b[0m\u001b[0mlen\u001b[0m\u001b[1;33m(\u001b[0m\u001b[0mA\u001b[0m\u001b[1;33m[\u001b[0m\u001b[1;36m0\u001b[0m\u001b[1;33m]\u001b[0m\u001b[1;33m)\u001b[0m\u001b[1;33m\u001b[0m\u001b[1;33m\u001b[0m\u001b[0m\n\u001b[0;32m      3\u001b[0m \u001b[0mU\u001b[0m\u001b[1;33m,\u001b[0m\u001b[0msigma\u001b[0m\u001b[1;33m,\u001b[0m\u001b[0mVT\u001b[0m\u001b[1;33m=\u001b[0m\u001b[0mSVD\u001b[0m\u001b[1;33m(\u001b[0m\u001b[0mA\u001b[0m\u001b[1;33m)\u001b[0m\u001b[1;33m\u001b[0m\u001b[1;33m\u001b[0m\u001b[0m\n\u001b[0;32m      4\u001b[0m \u001b[0mprint\u001b[0m\u001b[1;33m(\u001b[0m\u001b[1;34m\"A=\"\u001b[0m\u001b[1;33m)\u001b[0m\u001b[1;33m\u001b[0m\u001b[1;33m\u001b[0m\u001b[0m\n\u001b[0;32m      5\u001b[0m \u001b[0mprint\u001b[0m\u001b[1;33m(\u001b[0m\u001b[0mA\u001b[0m\u001b[1;33m)\u001b[0m\u001b[1;33m\u001b[0m\u001b[1;33m\u001b[0m\u001b[0m\n",
      "\u001b[1;31mNameError\u001b[0m: name 'A' is not defined"
     ]
    }
   ],
   "source": [
    "m=len(A)\n",
    "n=len(A[0])\n",
    "U,sigma,VT=SVD(A)\n",
    "print(\"A=\")\n",
    "print(A)\n",
    "print(\"U = \")\n",
    "print(U)\n",
    "print(\"S = \")\n",
    "print(sigma)\n",
    "print(\"VT = \")\n",
    "print(VT)\n",
    "print(\"test\")\n",
    "print(A- U@sigma@VT)\n",
    "print(\"---------------------------------\")\n",
    "print('Using scipy')\n",
    "U,S,VT = svd(A)\n",
    "S=np.diag(S)\n",
    "print(\"U=\")\n",
    "print(U)\n",
    "print(\"S=\")\n",
    "print(S)\n",
    "print(\"VT=\")\n",
    "print(VT)"
   ]
  },
  {
   "cell_type": "code",
   "execution_count": null,
   "id": "51213442",
   "metadata": {},
   "outputs": [],
   "source": []
  }
 ],
 "metadata": {
  "kernelspec": {
   "display_name": "Python 3 (ipykernel)",
   "language": "python",
   "name": "python3"
  },
  "language_info": {
   "codemirror_mode": {
    "name": "ipython",
    "version": 3
   },
   "file_extension": ".py",
   "mimetype": "text/x-python",
   "name": "python",
   "nbconvert_exporter": "python",
   "pygments_lexer": "ipython3",
   "version": "3.9.13"
  },
  "toc": {
   "base_numbering": 1,
   "nav_menu": {},
   "number_sections": true,
   "sideBar": true,
   "skip_h1_title": false,
   "title_cell": "Table of Contents",
   "title_sidebar": "Contents",
   "toc_cell": false,
   "toc_position": {},
   "toc_section_display": true,
   "toc_window_display": false
  }
 },
 "nbformat": 4,
 "nbformat_minor": 5
}
