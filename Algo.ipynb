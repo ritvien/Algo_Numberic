{
 "cells": [
  {
   "cell_type": "markdown",
   "id": "254fc012",
   "metadata": {},
   "source": [
    "# Danielevski"
   ]
  },
  {
   "cell_type": "markdown",
   "id": "20a0bc61",
   "metadata": {
    "ExecuteTime": {
     "end_time": "2024-06-13T14:04:59.170553Z",
     "start_time": "2024-06-13T14:04:59.159474Z"
    }
   },
   "source": [
    "<span style=\"color: blue;\"><font size=5> **Danielevski**</span>"
   ]
  },
  {
   "cell_type": "markdown",
   "id": "21c03f78",
   "metadata": {},
   "source": [
    "**INPUT** : Ma trận A (vuông)"
   ]
  },
  {
   "cell_type": "markdown",
   "id": "74f39ea3",
   "metadata": {},
   "source": [
    "`Bước 1:` \n",
    "* **n** := cấp của A\n",
    "* **list_M** := Danh sách lưu các ma trận M\n",
    "* **list_other_value** := Danh sách lưu các giá trị riêng khi tách ma trận\n",
    "* **i** := n-1"
   ]
  },
  {
   "cell_type": "markdown",
   "id": "9e324b15",
   "metadata": {
    "ExecuteTime": {
     "end_time": "2024-06-13T14:09:00.315383Z",
     "start_time": "2024-06-13T14:09:00.303900Z"
    }
   },
   "source": [
    "`Bước 2:`"
   ]
  },
  {
   "cell_type": "markdown",
   "id": "137104c4",
   "metadata": {},
   "source": [
    "Lặp khi i>0:\n",
    "* **M**,**M_inverse** := ma trận đơn vị cấp **n**\n",
    "* $M[i-1,:] = A[i,:] $\n",
    "* Lưu **M** vào **list_M**\n",
    "* <span style=\"color: red;\"> Trường hợp 1: `A[i,i-1] != 0`</span>\n",
    "    * <font size=4>$ M_{inverse}[i-1,j] = -\\frac{A[i,j]}{A[i,i-1]}$ </font>với j = 0:n và j!= i-1\n",
    "    * <font size=4>$ M_{inverse}[i-1,i-1] = \\frac{1}{A[i,i-1]}$\n",
    "    * <font size=4> $ A = M \\cdot A \\cdot M_{inverse} $"
   ]
  },
  {
   "cell_type": "markdown",
   "id": "99fb039d",
   "metadata": {
    "ExecuteTime": {
     "end_time": "2024-06-13T14:23:23.194107Z",
     "start_time": "2024-06-13T14:23:23.185584Z"
    }
   },
   "source": [
    "* <span style=\"color: red;\"> Trường hợp 2: `A[i,i-1] = 0`</span>\n",
    "    * <span style=\"color: red;\"> Trường hợp 2.1: `có số ở đằng trước != 0 có thể thay thế cho A[i,i-1]`</span>\n",
    "        * Tìm **j** sao cho A[i,j] != 0\n",
    "        * Đổi chỗ hàng (j,i-1) và cột (j,i-1) bằng cách nhân A với 2 ma trận C đơn vị đổi cột (j, i-1) : $ C \\cdot A \\cdot C_{inverse}$\n",
    "        * Xóa **M** ra khỏi **list_M**\n",
    "        * i += 1\n",
    "    * <span style=\"color: red;\"> Trường hợp 2.2: `không có số ở đằng trước != 0 có thể thay thế cho A[i,i-1]`</span>\n",
    "        * <span style=\"color: red;\"> Trường hợp 2.2.1: `Tách được giá trị riêng (tức là i=n-1)`</span>"
   ]
  },
  {
   "attachments": {},
   "cell_type": "markdown",
   "id": "35594edc",
   "metadata": {},
   "source": [
    "<img src='https://scontent.fhan18-1.fna.fbcdn.net/v/t1.15752-9/448227777_1147009423179177_8380619830616461195_n.png?_nc_cat=102&ccb=1-7&_nc_sid=5f2048&_nc_eui2=AeHmIofLbQlPqhTN4aaoyq5J61d_tm8EH3jrV3-2bwQfeHgQGFbM1XkdJmWUX918gUkiJDA-RPkSrqu8Qx242Heg&_nc_ohc=RwA0E3yHg5wQ7kNvgFjgKbb&_nc_ht=scontent.fhan18-1.fna&oh=03_Q7cD1QEfosnsKm9Picvgsbko_zoLFGnfXbR_wdDqZEdBtLKedA&oe=6692723A' style=\"width:200px;\"/> "
   ]
  },
  {
   "cell_type": "markdown",
   "id": "45f54166",
   "metadata": {},
   "source": [
    "* \n",
    "    * \n",
    "        * \n",
    "            * Thêm λ vào **list_other_value**\n",
    "            * n = n - 1\n",
    "            * Tách ma trận, **A := A[:-1,:-1]**, sau đó giải tiếp trong vòng lặp\n",
    "        * <span style=\"color: red;\"> Trường hợp 2.2.2: `Không tách được 1 hàng cuối, mà phải tách khối`</span>"
   ]
  },
  {
   "attachments": {},
   "cell_type": "markdown",
   "id": "59c3fdbc",
   "metadata": {},
   "source": [
    "<img src='https://scontent.fhan18-1.fna.fbcdn.net/v/t1.15752-9/447791708_1121322648979247_2012076053739984376_n.png?_nc_cat=102&ccb=1-7&_nc_sid=5f2048&_nc_eui2=AeH5k8ccim1KWxC1su5FIn-ASbLBcOnES0BJssFw6cRLQLakFnYuGUHHrKl2OZJtXa9Tplo0OBgXy0JgjwL82HS3&_nc_ohc=F3g8uHuBQusQ7kNvgFgzWtZ&_nc_ht=scontent.fhan18-1.fna&oh=03_Q7cD1QHo3hsRBfSalxDSRn0b2On5n_qTjf242qB24QlkRmE6XA&oe=6692650B' style=\"width:200px;\"/> "
   ]
  },
  {
   "cell_type": "markdown",
   "id": "7ae30cca",
   "metadata": {},
   "source": [
    "* \n",
    "    * \n",
    "        * \n",
    "            * A,F := <span style=\"color: blue;\"> Hàm giải trường hợp tách khối</span> (A,i)\n",
    "            * n := Cấp của A sau khi tách\n",
    "            * Giải đa thức đặc trưng cho ma trận Frobenius **<span style=\"color: red;\">F</span>**=> Giá trị riêng, lưu các nghiệm(giá trị riêng) vừa tìm được vào **list_other_value**\n",
    "* i = i-1"
   ]
  },
  {
   "cell_type": "markdown",
   "id": "c236ebd0",
   "metadata": {},
   "source": [
    "**OUTPUT**: List các giá trị riêng, List các M"
   ]
  },
  {
   "cell_type": "markdown",
   "id": "26fe5fdd",
   "metadata": {},
   "source": [
    "---"
   ]
  },
  {
   "cell_type": "markdown",
   "id": "80891537",
   "metadata": {},
   "source": [
    "**<span style=\"color: blue;\"> Hàm giải trường hợp tách khối</span>**"
   ]
  },
  {
   "cell_type": "markdown",
   "id": "f7098f3b",
   "metadata": {},
   "source": [
    "**INPUT**: ma trận A, điểm cắt k"
   ]
  },
  {
   "cell_type": "markdown",
   "id": "5d48ceca",
   "metadata": {},
   "source": [
    "`Bước 1`: Tách khối:\n",
    "* A2 = A[:k,:k]\n",
    "* F = A[k:,k:]\n",
    "* D = A[:k,:k]\n",
    "* zero = A[k:,:k]\n"
   ]
  },
  {
   "cell_type": "markdown",
   "id": "ffd0b60f",
   "metadata": {},
   "source": [
    "`Bước 2`: Đưa dần các cột của D về 0, mục tiêu đưa D thành ma trận 0:\n",
    "* S1 = Ma trận đơn vị cấp A2\n",
    "* S4 = Ma trận đơn vị cấp F\n",
    "\n",
    "\n",
    "* S2 = Ma trận 0 cấp D\n",
    "* S2_inv := Ma trận 0 cấp D\n",
    "\n",
    "\n",
    "* S2[:,col+1] = -D[:,col]\n",
    "* S2[:,col+1] = -D[:,col]\n",
    "* S2_inv[:,col+1] = D[:,col]"
   ]
  },
  {
   "attachments": {},
   "cell_type": "markdown",
   "id": "752d95ab",
   "metadata": {},
   "source": [
    "<img src='https://scontent.fhan18-1.fna.fbcdn.net/v/t1.15752-9/445595224_773212095001642_2439915849701315012_n.png?_nc_cat=111&ccb=1-7&_nc_sid=5f2048&_nc_eui2=AeEYTaSmDOLuZcyuKyl02x9-UJGfgudZf61QkZ-C51l_rcxib5prJdLPJRSe75djDuCe2EGow1A8aBQ1RTRADywM&_nc_ohc=xu-RHf2G3NMQ7kNvgFCFU89&_nc_ht=scontent.fhan18-1.fna&oh=03_Q7cD1QF_vH881P_5UuoeRNzJvgbDRC07ajix5Isiu47vgnJ4Tw&oe=66926FC7' style=\"width:500px;\"/> "
   ]
  },
  {
   "cell_type": "markdown",
   "id": "df122459",
   "metadata": {},
   "source": [
    "`Bước 3`: Kiểm tra xem cột cuối của A đã đưa được về 0 chưa, nếu chưa chuyển sang bước 4, nếu rồi thì trả về **không giải được bài toán**\n",
    "\n",
    "`Bước 4`: Lặp lại từ ` Bước 2` số lần bằng số cột của ma trận D"
   ]
  },
  {
   "cell_type": "markdown",
   "id": "37cbf7e2",
   "metadata": {},
   "source": [
    "**OUTPUT**: Ma trận A:=A[:k,:k], ma trận F"
   ]
  },
  {
   "cell_type": "markdown",
   "id": "7591490e",
   "metadata": {},
   "source": [
    "# LU"
   ]
  },
  {
   "cell_type": "markdown",
   "id": "60f56127",
   "metadata": {},
   "source": [
    "Giải Ax=b"
   ]
  },
  {
   "cell_type": "markdown",
   "id": "1ee7fb06",
   "metadata": {},
   "source": [
    "**INPUT** (A,b)"
   ]
  },
  {
   "cell_type": "markdown",
   "id": "a62c0cd3",
   "metadata": {},
   "source": [
    "` Bước 1`: Phân rã L,U"
   ]
  },
  {
   "cell_type": "markdown",
   "id": "94f354b0",
   "metadata": {},
   "source": [
    "Tách ma trận A = L.U có dạng:"
   ]
  },
  {
   "cell_type": "markdown",
   "id": "1ba23bfe",
   "metadata": {
    "ExecuteTime": {
     "end_time": "2024-06-13T15:53:34.747879Z",
     "start_time": "2024-06-13T15:53:34.728299Z"
    }
   },
   "source": [
    "<img src='https://scontent.fhan18-1.fna.fbcdn.net/v/t1.15752-9/448310342_1518541108760954_7962094827339856514_n.png?_nc_cat=107&ccb=1-7&_nc_sid=5f2048&_nc_eui2=AeFE6m0HP55PCfyGDxocY4wI4ODBweuw-ijg4MHB67D6KG50S-rtQi9GbLRe8tsiXYG2AcgYilw-WyG-n_SpaSRW&_nc_ohc=jA05AsAo2_IQ7kNvgFUsICA&_nc_ht=scontent.fhan18-1.fna&oh=03_Q7cD1QE8PiVzz5zs_a7LI_wCi-4m0RqrI1S9WNso9IdfzvMFyg&oe=669275EC' style=\"width:400px;\"/> "
   ]
  },
  {
   "cell_type": "markdown",
   "id": "d0d8efcf",
   "metadata": {},
   "source": [
    "<font size=4>$A_i, A^j$ </font>: hàng i, cột j của ma trận A "
   ]
  },
  {
   "cell_type": "markdown",
   "id": "3b5b1e12",
   "metadata": {},
   "source": [
    "với k = i = j = 1:\n",
    "* <font size=4>$u_{1,1} = a_{1,1}$\n",
    "* <font size=4>$L_{n,1} = \\frac{a_{n,1}}{u_{1,1}}$\n",
    "* <font size=4>$U_{1,n} = a_{1,n}$\n",
    "\n",
    "với n = [i+1=2;n(cấp của A)]\n",
    "    \n",
    "👉 Ta tính được cột $L^1$, hàng $U_1$"
   ]
  },
  {
   "cell_type": "markdown",
   "id": "24bd7a45",
   "metadata": {},
   "source": [
    "với k = i = j = 2:\n",
    "* <font size=4> $u_{2,2} = a_{2,2} - l_{2,1}.u_{1,2}$\n",
    "    \n",
    "    \n",
    "* <font size=4> $L_{n,2} = \\frac{a_{n,2} - l_{n,1}.u_{1,2}}{u_{2,2}}$\n",
    "    \n",
    "    \n",
    "* <font size=4> $U_{2,n} = a_{2,n} - l_{2,1}.u_{1,n}$\n",
    "\n",
    "với n = [i+1=2;n(cấp của A)]\n",
    "\n",
    "👉 Ta tính được cột $L^2$, hàng $U_2$ "
   ]
  },
  {
   "cell_type": "markdown",
   "id": "5d6b6b30",
   "metadata": {
    "ExecuteTime": {
     "end_time": "2024-06-13T16:51:36.271120Z",
     "start_time": "2024-06-13T16:51:36.257599Z"
    }
   },
   "source": [
    "⚠️Tuy nhiên, để code không bị quá phức tạp, ta sẽ xử lý A sau mỗi lần lặp"
   ]
  },
  {
   "cell_type": "markdown",
   "id": "4cbbb146",
   "metadata": {},
   "source": [
    "tức là: <font size=5> $ a_{i,j} = a_{i,j} - l_{i,k}.u_{k,j}$"
   ]
  },
  {
   "cell_type": "markdown",
   "id": "e92dae4f",
   "metadata": {},
   "source": [
    "với i,j = [k+1,n]"
   ]
  },
  {
   "cell_type": "markdown",
   "id": "5b3672ce",
   "metadata": {},
   "source": [
    "lúc này, công thức tổng quát tính $L^k$, $U_k$ sẽ là:"
   ]
  },
  {
   "cell_type": "markdown",
   "id": "cdeef2a5",
   "metadata": {
    "ExecuteTime": {
     "end_time": "2024-06-13T16:59:17.404745Z",
     "start_time": "2024-06-13T16:59:17.392215Z"
    }
   },
   "source": [
    "* <font size=4>$L_{n,k} = \\frac{a_{n,k}}{u_{k,k}}$\n",
    "* <font size=4>$U_{k,n} = a_{k,n}$"
   ]
  },
  {
   "cell_type": "markdown",
   "id": "169e3d8b",
   "metadata": {},
   "source": [
    "👆 Lặp lại bước trên với k = k + 1 cho đến khi k = n, ta sẽ tính được các cột $L^n$ và các hàng $U_n$ => Ma trận $L,U$"
   ]
  },
  {
   "cell_type": "markdown",
   "id": "997f8462",
   "metadata": {},
   "source": [
    "---"
   ]
  },
  {
   "cell_type": "markdown",
   "id": "ead63400",
   "metadata": {},
   "source": [
    "👉 Lúc này ta có $A \\cdot x = L \\cdot U \\cdot x = b$"
   ]
  },
  {
   "cell_type": "markdown",
   "id": "3d6522fe",
   "metadata": {
    "ExecuteTime": {
     "end_time": "2024-06-13T17:04:41.387941Z",
     "start_time": "2024-06-13T17:04:41.373242Z"
    }
   },
   "source": [
    "👉 Đặt $ U \\cdot x = y $, giải $ L \\cdot y = b $"
   ]
  },
  {
   "cell_type": "markdown",
   "id": "1fc6b9e9",
   "metadata": {},
   "source": [
    "` Bước 2:` **Tính y** bằng cách giải hệ: $ L \\cdot y = b $"
   ]
  },
  {
   "cell_type": "markdown",
   "id": "01f7ca94",
   "metadata": {},
   "source": [
    "* <font size=4>$y_{1} = \\frac{b_{1}}{l_{1,1}}$\n",
    "    \n",
    "* <font size=4>$y_{k} = \\frac{1}{l_{k,k}} - \\sum_{t=1}^{k-1}l_{k,k}.y_t$"
   ]
  },
  {
   "cell_type": "markdown",
   "id": "f3a1bd66",
   "metadata": {},
   "source": [
    "` Bước 3:` **Tính x** bằng cách giải hệ: $ U \\cdot x = y $"
   ]
  },
  {
   "cell_type": "markdown",
   "id": "6b7891a1",
   "metadata": {},
   "source": [
    "* <font size=4>$x_{n} = y_{n}$\n",
    "    \n",
    "* <font size=4>$x_{k} = y_{k} - \\sum_{t=k+1}^{n}u_{k,t}.x_t$"
   ]
  },
  {
   "cell_type": "markdown",
   "id": "e78047b3",
   "metadata": {},
   "source": [
    "👉 x"
   ]
  },
  {
   "cell_type": "code",
   "execution_count": null,
   "id": "2e581e22",
   "metadata": {},
   "outputs": [],
   "source": []
  },
  {
   "cell_type": "code",
   "execution_count": null,
   "id": "9f514477",
   "metadata": {},
   "outputs": [],
   "source": []
  },
  {
   "cell_type": "code",
   "execution_count": null,
   "id": "6909cb7a",
   "metadata": {},
   "outputs": [],
   "source": []
  },
  {
   "cell_type": "code",
   "execution_count": null,
   "id": "51aff68b",
   "metadata": {},
   "outputs": [],
   "source": []
  },
  {
   "cell_type": "code",
   "execution_count": 7,
   "id": "191bbf57",
   "metadata": {
    "ExecuteTime": {
     "end_time": "2024-06-13T16:23:40.910639Z",
     "start_time": "2024-06-13T16:23:40.887396Z"
    }
   },
   "outputs": [
    {
     "data": {
      "text/plain": [
       "array([[ 1,  2,  3],\n",
       "       [ 2,  4,  6],\n",
       "       [ 6, 12, 18]])"
      ]
     },
     "execution_count": 7,
     "metadata": {},
     "output_type": "execute_result"
    }
   ],
   "source": [
    "A=np.array([[1,0,0],[2,1,0],[6,0,1]])\n",
    "B=np.array([[1,2,3],[0,0,0],[0,0,0]])\n",
    "A@B"
   ]
  },
  {
   "cell_type": "markdown",
   "id": "12e3506e",
   "metadata": {},
   "source": [
    "với i = j = 2:\n",
    "* <font size=4>$u_{2,2} = a_{2,2}$\n",
    "* <font size=4>$L_{n,1} = \\frac{a_{n,1}}{u_{1,1}}$\n",
    "* <font size=4>$U_{1,n} = a_{1,n}$"
   ]
  },
  {
   "cell_type": "code",
   "execution_count": null,
   "id": "21fe4e8c",
   "metadata": {},
   "outputs": [],
   "source": []
  },
  {
   "cell_type": "code",
   "execution_count": null,
   "id": "b64fea64",
   "metadata": {},
   "outputs": [],
   "source": []
  },
  {
   "cell_type": "code",
   "execution_count": null,
   "id": "947f8ff1",
   "metadata": {},
   "outputs": [],
   "source": []
  },
  {
   "cell_type": "code",
   "execution_count": null,
   "id": "9c74ad55",
   "metadata": {},
   "outputs": [],
   "source": []
  },
  {
   "cell_type": "code",
   "execution_count": null,
   "id": "7656405e",
   "metadata": {},
   "outputs": [],
   "source": []
  },
  {
   "cell_type": "markdown",
   "id": "d9cb4bd8",
   "metadata": {},
   "source": [
    "# Emoji\n",
    "\n",
    "<span style=\"color:red\">&#10060;</span> : X\n",
    "\n",
    "👉 👇 👆\n",
    "\n",
    "\n",
    "⚠️\n",
    "\n",
    "<span style=\"color: green; font-size: 24px;\">&#10004;</span>\n",
    ": Dấu tích\n",
    "\n",
    "&#128161; : bóng đèn\n",
    "\n",
    "<font size =5> &#x1F9EE; Công thức \n",
    "\n",
    "<font size =5> &#x1F4DA; : Bài tập\n",
    "   \n",
    "<img src='link' style=\"width:500px;\"/> : Chèn ảnh\n",
    "    \n",
    "<div style=\"margin-left: 200px;\">: căn lề\n",
    "    \n",
    "<span style=\"color: red;\"> Chữ_màu</span>"
   ]
  }
 ],
 "metadata": {
  "kernelspec": {
   "display_name": "Python 3 (ipykernel)",
   "language": "python",
   "name": "python3"
  },
  "language_info": {
   "codemirror_mode": {
    "name": "ipython",
    "version": 3
   },
   "file_extension": ".py",
   "mimetype": "text/x-python",
   "name": "python",
   "nbconvert_exporter": "python",
   "pygments_lexer": "ipython3",
   "version": "3.9.13"
  },
  "toc": {
   "base_numbering": 1,
   "nav_menu": {},
   "number_sections": true,
   "sideBar": true,
   "skip_h1_title": false,
   "title_cell": "Table of Contents",
   "title_sidebar": "Contents",
   "toc_cell": false,
   "toc_position": {},
   "toc_section_display": true,
   "toc_window_display": false
  }
 },
 "nbformat": 4,
 "nbformat_minor": 5
}
