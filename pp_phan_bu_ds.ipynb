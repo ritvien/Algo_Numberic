{
 "cells": [
  {
   "cell_type": "code",
   "execution_count": 2,
   "id": "ad88a447-ce49-4501-9f2e-2f1521eec168",
   "metadata": {},
   "outputs": [],
   "source": [
    "import numpy as np"
   ]
  },
  {
   "cell_type": "code",
   "execution_count": 3,
   "id": "035d7d91-a1ab-4692-bee7-713f1c9e82ad",
   "metadata": {},
   "outputs": [],
   "source": [
    "Abar = np.array([[2,    1,    0.1,   1     ],\n",
    "                 [0.4,  0.5,  4,     -8.5],\n",
    "                 [0.3,  -1,   1,     5.2 ],\n",
    "                 [1,    0.2,  2.5,   -1 ]])\n"
   ]
  },
  {
   "cell_type": "code",
   "execution_count": 4,
   "id": "e6ffb3c5-9abd-4766-bcbd-2f9f566e8427",
   "metadata": {},
   "outputs": [],
   "source": [
    "C = np.eye(Abar.shape[0])"
   ]
  },
  {
   "cell_type": "code",
   "execution_count": 5,
   "id": "d8a3336b-6b17-497e-9aa5-0e11064ce2ef",
   "metadata": {},
   "outputs": [
    {
     "name": "stdout",
     "output_type": "stream",
     "text": [
      "C[ 0 ][ 0 ] : 16.110000000000003\n",
      "C[ 0 ][ 1 ] : -18.525000000000002\n",
      "C[ 0 ][ 2 ] : -6.276\n",
      "C[ 0 ][ 3 ] : -3.2849999999999997\n",
      "C[ 1 ][ 0 ] : 16.695999999999998\n",
      "C[ 1 ][ 1 ] : -27.699999999999996\n",
      "C[ 1 ][ 2 ] : -6.479999999999999\n",
      "C[ 1 ][ 3 ] : -5.044\n",
      "C[ 2 ][ 0 ] : 17.580000000000005\n",
      "C[ 2 ][ 1 ] : -30.690000000000012\n",
      "C[ 2 ][ 2 ] : -6.119999999999997\n",
      "C[ 2 ][ 3 ] : -3.8579999999999997\n",
      "C[ 3 ][ 0 ] : -34.39000000000001\n",
      "C[ 3 ][ 1 ] : 57.337000000000025\n",
      "C[ 3 ][ 2 ] : 16.979999999999993\n",
      "C[ 3 ][ 3 ] : 9.744999999999997\n"
     ]
    },
    {
     "data": {
      "text/plain": [
       "array([[ 1.64683513,  1.70673863,  1.797105  , -3.51549722],\n",
       "       [-1.89370707, -2.83161596, -3.13726693,  5.8612406 ],\n",
       "       [-0.64156035, -0.66241413, -0.62561335,  1.73577036],\n",
       "       [-0.33580716, -0.51561989, -0.39438175,  0.99617681]])"
      ]
     },
     "execution_count": 5,
     "metadata": {},
     "output_type": "execute_result"
    }
   ],
   "source": [
    "for i in range(Abar.shape[0]):\n",
    "    for j in range(Abar.shape[1]):\n",
    "        C[i][j] = (-1)**(i+j)*( np.linalg.det( np.delete(np.delete(Abar,i,axis=0),j,axis=1) ) )\n",
    "        print(\"C[\",i,\"][\",j,\"] :\",C[i][j])\n",
    "Abar_nghich = (1/(np.linalg.det(Abar)))*(C.T)\n",
    "Abar_nghich\n",
    "\n",
    "\n",
    "    "
   ]
  },
  {
   "cell_type": "code",
   "execution_count": null,
   "id": "4291751f-600d-4ee1-a2c0-2e300c66cede",
   "metadata": {},
   "outputs": [],
   "source": []
  }
 ],
 "metadata": {
  "kernelspec": {
   "display_name": "Python 3 (ipykernel)",
   "language": "python",
   "name": "python3"
  },
  "language_info": {
   "codemirror_mode": {
    "name": "ipython",
    "version": 3
   },
   "file_extension": ".py",
   "mimetype": "text/x-python",
   "name": "python",
   "nbconvert_exporter": "python",
   "pygments_lexer": "ipython3",
   "version": "3.11.7"
  }
 },
 "nbformat": 4,
 "nbformat_minor": 5
}
